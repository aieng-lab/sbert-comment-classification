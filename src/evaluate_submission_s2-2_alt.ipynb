{
 "cells": [
  {
   "cell_type": "markdown",
   "metadata": {},
   "source": [
    "**Goal:** Evaluate candidates in terms of classification performance, runtime and GFLOPS across languages. Candidates migth use different pre-trained embedding models and head types.\n",
    "\n",
    "*This notebook considers the special case when the original baseline (embedding model + classification head) is considered as the best for a given language (e.g., Java).*"
   ]
  },
  {
   "cell_type": "code",
   "execution_count": 1,
   "metadata": {},
   "outputs": [],
   "source": [
    "import json\n",
    "import time\n",
    "from tqdm.auto import tqdm\n",
    "\n",
    "import numpy as np\n",
    "import pandas as pd\n",
    "\n",
    "import torch\n",
    "\n",
    "from datasets import load_dataset\n",
    "from setfit import SetFitModel"
   ]
  },
  {
   "cell_type": "code",
   "execution_count": 2,
   "metadata": {},
   "outputs": [],
   "source": [
    "tqdm.pandas()"
   ]
  },
  {
   "cell_type": "code",
   "execution_count": 3,
   "metadata": {},
   "outputs": [],
   "source": [
    "NUM_EXPERIMENTS = 10\n",
    "MODEL_NAME = \"{}-i{}-hLR\"\n",
    "MODEL_PATH = \"../optimized_models/{}/{}\""
   ]
  },
  {
   "cell_type": "code",
   "execution_count": 4,
   "metadata": {},
   "outputs": [],
   "source": [
    "langs = [\"java\", \"python\", \"pharo\"]\n",
    "\n",
    "labels = {\n",
    "    \"java\": [\"summary\", \"Ownership\", \"Expand\", \"usage\", \"Pointer\", \"deprecation\", \"rational\"],\n",
    "    \"python\": [\"Usage\", \"Parameters\", \"DevelopmentNotes\", \"Expand\", \"Summary\"],\n",
    "    \"pharo\": [\"Keyimplementationpoints\", \"Example\", \"Responsibilities\", \"Classreferences\", \"Intent\", \"Keymessages\", \"Collaborators\"]\n",
    "}"
   ]
  },
  {
   "cell_type": "code",
   "execution_count": 5,
   "metadata": {},
   "outputs": [],
   "source": [
    "model_keys = {\n",
    "    \"java\": \"baseline\",  # Using the value as string instead of a dict automatically consider the original baseline provided through HuggingFace\n",
    "    \"python\": {\n",
    "        \"alias\": \"aml6\",\n",
    "        \"num_iterations\": 20\n",
    "    },\n",
    "    \"pharo\": {\n",
    "        \"alias\": \"baseline\",\n",
    "        # \"num_iterations\": 20\n",
    "    },\n",
    "}\n"
   ]
  },
  {
   "cell_type": "code",
   "execution_count": null,
   "metadata": {},
   "outputs": [],
   "source": [
    "dataset = load_dataset(\"NLBSE/nlbse25-code-comment-classification\")"
   ]
  },
  {
   "cell_type": "code",
   "execution_count": null,
   "metadata": {},
   "outputs": [],
   "source": [
    "total_flops = 0\n",
    "total_time = 0\n",
    "scores = []\n",
    "\n",
    "for lan in langs:\n",
    "    if model_keys[lan] == \"baseline\":\n",
    "        model_name = f\"NLBSE/nlbse25_{lan}\"\n",
    "        print(\"Model to evaluate:\", model_name)\n",
    "\n",
    "        # Loading the model\n",
    "        model = SetFitModel.from_pretrained(model_name)\n",
    "    else:\n",
    "        if model_keys[lan][\"alias\"] == \"baseline\":\n",
    "            model_name = \"baseline\"\n",
    "        else:\n",
    "            model_name = MODEL_NAME.format(model_keys[lan][\"alias\"], model_keys[lan][\"num_iterations\"])\n",
    "        print(\"Model to evaluate:\", model_name)\n",
    "\n",
    "        # Loading the model\n",
    "        model = SetFitModel.from_pretrained(MODEL_PATH.format(model_name, lan))\n",
    "    \n",
    "    # Starting the profiler as context\n",
    "    with torch.profiler.profile(with_flops=True) as p:\n",
    "        begin = time.time()\n",
    "        \n",
    "        # Running multiple inference experiments\n",
    "        for i in range(NUM_EXPERIMENTS):\n",
    "            # Calling the model\n",
    "            y_pred = model(dataset[f\"{lan}_test\"][\"combo\"]).cpu().numpy().T\n",
    "        \n",
    "        total = time.time() - begin\n",
    "        total_time = total_time + total\n",
    "    \n",
    "    # Calculating the total of FLOPs used\n",
    "    total_flops = total_flops + (sum(k.flops for k in p.key_averages()) / 1e9)\n",
    "\n",
    "    # Getting the ground truth\n",
    "    y_true = np.array(dataset[f\"{lan}_test\"][\"labels\"]).T\n",
    "    \n",
    "    for i in range(len(y_pred)):\n",
    "        assert(len(y_pred[i]) == len(y_true[i]))\n",
    "        \n",
    "        # Calculating confusion matrix\n",
    "        tp = sum([true == pred == 1 for (true, pred) in zip(y_true[i], y_pred[i])])\n",
    "        tn = sum([true == pred == 0 for (true, pred) in zip(y_true[i], y_pred[i])])\n",
    "        fp = sum([true == 0 and pred == 1 for (true, pred) in zip(y_true[i], y_pred[i])])\n",
    "        fn = sum([true == 1 and pred == 0 for (true, pred) in zip(y_true[i], y_pred[i])])\n",
    "        \n",
    "        # Calculating error metrics\n",
    "        precision = tp / (tp + fp)\n",
    "        recall = tp / (tp + fn)\n",
    "        f1 = (2*tp) / (2*tp + fp + fn)\n",
    "        \n",
    "        scores.append({\n",
    "            \"lan\": lan,\n",
    "            \"cat\": labels[lan][i],\n",
    "            \"precision\": precision,\n",
    "            \"recall\": recall,\n",
    "            \"f1\": f1\n",
    "        })\n",
    "\n",
    "scores = pd.DataFrame(scores)\n",
    "\n",
    "print(\"Compute in GFLOPs:\", total_flops / NUM_EXPERIMENTS)\n",
    "print(\"Avg. runtime in seconds:\", total_time / NUM_EXPERIMENTS)"
   ]
  },
  {
   "cell_type": "code",
   "execution_count": null,
   "metadata": {},
   "outputs": [],
   "source": [
    "scores"
   ]
  },
  {
   "cell_type": "code",
   "execution_count": null,
   "metadata": {},
   "outputs": [],
   "source": [
    "max_avg_runtime = 5\n",
    "max_avg_flops = 5000\n",
    "\n",
    "# s𝑢𝑏𝑚𝑖𝑠𝑠𝑖𝑜𝑛_𝑠𝑐𝑜𝑟𝑒(𝑚𝑜𝑑𝑒𝑙)=(𝑎𝑣𝑔. 𝐹1)×0.60+((𝑚𝑎𝑥_𝑎𝑣𝑔_𝑟𝑢𝑛𝑡𝑖𝑚𝑒−𝑚𝑒𝑎𝑠𝑢𝑟𝑒𝑑_𝑎𝑣𝑔_𝑟𝑢𝑛𝑡𝑖𝑚𝑒)/𝑚𝑎𝑥_𝑎𝑣𝑔_𝑟𝑢𝑛𝑡𝑖𝑚𝑒)×0.2+((𝑚𝑎𝑥_GFLOPs−𝑚𝑒𝑎𝑠𝑢𝑟𝑒𝑑_GFLOPs)/𝑚𝑎𝑥_GFLOPs)×0.2\n",
    "def score(avg_f1, avg_runtime, avg_flops):\n",
    "    return (0.6 * avg_f1 +\n",
    "      0.2 * ((max_avg_runtime - avg_runtime) / max_avg_runtime) +\n",
    "      0.2 * ((max_avg_flops - avg_flops) / max_avg_flops))\n",
    "\n",
    "avg_f1 = float(scores.f1.mean())\n",
    "avg_runtime = total_time / NUM_EXPERIMENTS\n",
    "avg_flops = total_flops / NUM_EXPERIMENTS\n",
    "\n",
    "submission_score = score(avg_f1, avg_runtime, avg_flops)\n",
    "\n",
    "print(\"Submission score:\", round(submission_score, 3))"
   ]
  },
  {
   "cell_type": "code",
   "execution_count": 10,
   "metadata": {},
   "outputs": [],
   "source": [
    "scoring_details = {}\n",
    "\n",
    "for i, row in scores.iterrows():\n",
    "\tscoring_details[f\"{row[\"lan\"]}_{ row[\"cat\"]}_f1\"] = row[\"f1\"]\n",
    "\n",
    "scoring_details = {\n",
    "    **scoring_details,\n",
    "    **scores.groupby(\"lan\").f1.mean().add_suffix(\"_avg_f1\").to_dict()\n",
    "}\n",
    "\n",
    "scoring_details[\"avg_f1\"] = avg_f1\n",
    "scoring_details[\"avg_runtime\"] = avg_runtime\n",
    "scoring_details[\"avg_flops\"] = avg_flops\n",
    "scoring_details[\"submission_score\"] = submission_score\n",
    "\n",
    "with open(f\"../competition_s2/submission_alt.json\", \"w\") as f: \n",
    "    json.dump(scoring_details, f, indent=4)"
   ]
  },
  {
   "cell_type": "code",
   "execution_count": null,
   "metadata": {},
   "outputs": [],
   "source": []
  }
 ],
 "metadata": {
  "kernelspec": {
   "display_name": "nlbse",
   "language": "python",
   "name": "python3"
  },
  "language_info": {
   "codemirror_mode": {
    "name": "ipython",
    "version": 3
   },
   "file_extension": ".py",
   "mimetype": "text/x-python",
   "name": "python",
   "nbconvert_exporter": "python",
   "pygments_lexer": "ipython3",
   "version": "3.12.4"
  }
 },
 "nbformat": 4,
 "nbformat_minor": 2
}
