{
 "cells": [
  {
   "cell_type": "markdown",
   "metadata": {},
   "source": [
    "**Goal:** Push models to the Hub."
   ]
  },
  {
   "cell_type": "code",
   "execution_count": null,
   "metadata": {},
   "outputs": [],
   "source": [
    "from setfit import SetFitModel"
   ]
  },
  {
   "cell_type": "code",
   "execution_count": null,
   "metadata": {},
   "outputs": [],
   "source": [
    "MODEL_NAME = \"{}-i{}-hLR\"\n",
    "MODEL_PATH = \"../optimized_models/{}/{}\""
   ]
  },
  {
   "cell_type": "code",
   "execution_count": null,
   "metadata": {},
   "outputs": [],
   "source": [
    "langs = [\"java\", \"python\", \"pharo\"]"
   ]
  },
  {
   "cell_type": "code",
   "execution_count": null,
   "metadata": {},
   "outputs": [],
   "source": [
    "model_keys = {\n",
    "    \"java\": {\n",
    "        \"alias\": \"aml6\",\n",
    "        \"num_iterations\": 40\n",
    "    },\n",
    "    \"python\": {\n",
    "        \"alias\": \"aml6\",\n",
    "        \"num_iterations\": 20\n",
    "    },\n",
    "    \"pharo\": {\n",
    "        \"alias\": \"baseline\",\n",
    "        # \"num_iterations\": 20\n",
    "    },\n",
    "}"
   ]
  },
  {
   "cell_type": "code",
   "execution_count": null,
   "metadata": {},
   "outputs": [],
   "source": [
    "for lan in langs:\n",
    "    if model_keys[lan][\"alias\"] == \"baseline\":\n",
    "        model_name = \"baseline\"\n",
    "    else:\n",
    "        model_name = MODEL_NAME.format(model_keys[lan][\"alias\"], model_keys[lan][\"num_iterations\"])\n",
    "    print(\"Model to evaluate:\", model_name)\n",
    "\n",
    "    # Loading the model\n",
    "    model = SetFitModel.from_pretrained(MODEL_PATH.format(model_name, lan))\n",
    "\n",
    "    # Pushing to Hub\n",
    "    model.push_to_hub(f\"fabiancpl/nlbse25_{lan}\")"
   ]
  },
  {
   "cell_type": "code",
   "execution_count": null,
   "metadata": {},
   "outputs": [],
   "source": []
  }
 ],
 "metadata": {
  "kernelspec": {
   "display_name": "nlbse",
   "language": "python",
   "name": "python3"
  },
  "language_info": {
   "codemirror_mode": {
    "name": "ipython",
    "version": 3
   },
   "file_extension": ".py",
   "mimetype": "text/x-python",
   "name": "python",
   "nbconvert_exporter": "python",
   "pygments_lexer": "ipython3",
   "version": "3.12.4"
  }
 },
 "nbformat": 4,
 "nbformat_minor": 2
}
