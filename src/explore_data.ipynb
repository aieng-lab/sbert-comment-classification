{
 "cells": [
  {
   "cell_type": "markdown",
   "metadata": {},
   "source": [
    "**Goal:** Explore the dataset."
   ]
  },
  {
   "cell_type": "code",
   "execution_count": null,
   "metadata": {},
   "outputs": [],
   "source": [
    "import matplotlib.pyplot as plt\n",
    "import numpy as np\n",
    "import pandas as pd\n",
    "import seaborn as sns\n",
    "\n",
    "from datasets import load_dataset\n",
    "from setfit import SetFitModel"
   ]
  },
  {
   "cell_type": "code",
   "execution_count": 2,
   "metadata": {},
   "outputs": [],
   "source": [
    "langs = [\"java\", \"python\", \"pharo\"]\n",
    "\n",
    "labels = {\n",
    "    \"java\": [\"summary\", \"Ownership\", \"Expand\", \"usage\", \"Pointer\", \"deprecation\", \"rational\"],\n",
    "    \"python\": [\"Usage\", \"Parameters\", \"DevelopmentNotes\", \"Expand\", \"Summary\"],\n",
    "    \"pharo\": [\"Keyimplementationpoints\", \"Example\", \"Responsibilities\", \"Classreferences\", \"Intent\", \"Keymessages\", \"Collaborators\"]\n",
    "}"
   ]
  },
  {
   "cell_type": "code",
   "execution_count": 3,
   "metadata": {},
   "outputs": [],
   "source": [
    "# Load the model, just for tokenization purposes\n",
    "model = SetFitModel.from_pretrained(\"NLBSE/nlbse25_java\")"
   ]
  },
  {
   "cell_type": "markdown",
   "metadata": {},
   "source": [
    "### Load and transform the data:"
   ]
  },
  {
   "cell_type": "code",
   "execution_count": 4,
   "metadata": {},
   "outputs": [],
   "source": [
    "dataset = load_dataset(\"NLBSE/nlbse25-code-comment-classification\")"
   ]
  },
  {
   "cell_type": "code",
   "execution_count": 5,
   "metadata": {},
   "outputs": [
    {
     "data": {
      "text/plain": [
       "DatasetDict({\n",
       "    java_train: Dataset({\n",
       "        features: ['index', 'class', 'comment_sentence', 'partition', 'combo', 'labels'],\n",
       "        num_rows: 7614\n",
       "    })\n",
       "    java_test: Dataset({\n",
       "        features: ['index', 'class', 'comment_sentence', 'partition', 'combo', 'labels'],\n",
       "        num_rows: 1725\n",
       "    })\n",
       "    python_train: Dataset({\n",
       "        features: ['index', 'class', 'comment_sentence', 'partition', 'combo', 'labels'],\n",
       "        num_rows: 1884\n",
       "    })\n",
       "    python_test: Dataset({\n",
       "        features: ['index', 'class', 'comment_sentence', 'partition', 'combo', 'labels'],\n",
       "        num_rows: 406\n",
       "    })\n",
       "    pharo_train: Dataset({\n",
       "        features: ['index', 'class', 'comment_sentence', 'partition', 'combo', 'labels'],\n",
       "        num_rows: 1298\n",
       "    })\n",
       "    pharo_test: Dataset({\n",
       "        features: ['index', 'class', 'comment_sentence', 'partition', 'combo', 'labels'],\n",
       "        num_rows: 289\n",
       "    })\n",
       "})"
      ]
     },
     "execution_count": 5,
     "metadata": {},
     "output_type": "execute_result"
    }
   ],
   "source": [
    "dataset"
   ]
  },
  {
   "cell_type": "code",
   "execution_count": 6,
   "metadata": {},
   "outputs": [
    {
     "name": "stdout",
     "output_type": "stream",
     "text": [
      "Total of comment sentences: 13216\n"
     ]
    }
   ],
   "source": [
    "print(\"Total of comment sentences:\",  sum([len(dataset[k]) for k in dataset.keys()]))"
   ]
  },
  {
   "cell_type": "code",
   "execution_count": 7,
   "metadata": {},
   "outputs": [],
   "source": [
    "java_df = []\n",
    "python_df = []\n",
    "pharo_df = []\n",
    "\n",
    "lang = \"java\"\n",
    "for s in [\"train\", \"test\"]:\n",
    "\tdf = pd.DataFrame(dataset[f\"{lang}_{s}\"])\n",
    "\tlabels_df = pd.DataFrame(df[\"labels\"].tolist(), columns=labels[lang])\n",
    "\tdf = pd.concat([df, labels_df], axis=1)\n",
    "\tjava_df.append(df)\n",
    "java_df = pd.concat(java_df).reset_index(drop=True)\n",
    "\n",
    "lang = \"python\"\n",
    "for s in [\"train\", \"test\"]:\n",
    "\tdf = pd.DataFrame(dataset[f\"{lang}_{s}\"])\n",
    "\tlabels_df = pd.DataFrame(df[\"labels\"].tolist(), columns=labels[lang])\n",
    "\tdf = pd.concat([df, labels_df], axis=1)\n",
    "\tpython_df.append(df)\n",
    "python_df = pd.concat(python_df).reset_index(drop=True)\n",
    "\n",
    "lang = \"pharo\"\n",
    "for s in [\"train\", \"test\"]:\n",
    "\tdf = pd.DataFrame(dataset[f\"{lang}_{s}\"])\n",
    "\tlabels_df = pd.DataFrame(df[\"labels\"].tolist(), columns=labels[lang])\n",
    "\tdf = pd.concat([df, labels_df], axis=1)\n",
    "\tpharo_df.append(df)\n",
    "pharo_df = pd.concat(pharo_df).reset_index(drop=True)"
   ]
  },
  {
   "cell_type": "code",
   "execution_count": 8,
   "metadata": {},
   "outputs": [
    {
     "data": {
      "text/html": [
       "<div>\n",
       "<style scoped>\n",
       "    .dataframe tbody tr th:only-of-type {\n",
       "        vertical-align: middle;\n",
       "    }\n",
       "\n",
       "    .dataframe tbody tr th {\n",
       "        vertical-align: top;\n",
       "    }\n",
       "\n",
       "    .dataframe thead th {\n",
       "        text-align: right;\n",
       "    }\n",
       "</style>\n",
       "<table border=\"1\" class=\"dataframe\">\n",
       "  <thead>\n",
       "    <tr style=\"text-align: right;\">\n",
       "      <th></th>\n",
       "      <th>index</th>\n",
       "      <th>class</th>\n",
       "      <th>comment_sentence</th>\n",
       "      <th>partition</th>\n",
       "      <th>combo</th>\n",
       "      <th>labels</th>\n",
       "      <th>summary</th>\n",
       "      <th>Ownership</th>\n",
       "      <th>Expand</th>\n",
       "      <th>usage</th>\n",
       "      <th>Pointer</th>\n",
       "      <th>deprecation</th>\n",
       "      <th>rational</th>\n",
       "    </tr>\n",
       "  </thead>\n",
       "  <tbody>\n",
       "    <tr>\n",
       "      <th>73</th>\n",
       "      <td>136</td>\n",
       "      <td>DiskBalancerCluster.java</td>\n",
       "      <td>not in exclusionlist is processed.</td>\n",
       "      <td>0</td>\n",
       "      <td>not in exclusionlist is processed. | DiskBalan...</td>\n",
       "      <td>[0, 0, 1, 0, 0, 0, 0]</td>\n",
       "      <td>0</td>\n",
       "      <td>0</td>\n",
       "      <td>1</td>\n",
       "      <td>0</td>\n",
       "      <td>0</td>\n",
       "      <td>0</td>\n",
       "      <td>0</td>\n",
       "    </tr>\n",
       "    <tr>\n",
       "      <th>6415</th>\n",
       "      <td>9421</td>\n",
       "      <td>OutputReader.java</td>\n",
       "      <td>* Read the next key/value pair outputted by...</td>\n",
       "      <td>0</td>\n",
       "      <td>* Read the next key/value pair outputted by...</td>\n",
       "      <td>[1, 0, 0, 0, 0, 0, 0]</td>\n",
       "      <td>1</td>\n",
       "      <td>0</td>\n",
       "      <td>0</td>\n",
       "      <td>0</td>\n",
       "      <td>0</td>\n",
       "      <td>0</td>\n",
       "      <td>0</td>\n",
       "    </tr>\n",
       "    <tr>\n",
       "      <th>8888</th>\n",
       "      <td>3654</td>\n",
       "      <td>BiMap.java</td>\n",
       "      <td>@link java.util.Collection</td>\n",
       "      <td>1</td>\n",
       "      <td>@link java.util.Collection | BiMap.java</td>\n",
       "      <td>[0, 0, 0, 0, 1, 0, 0]</td>\n",
       "      <td>0</td>\n",
       "      <td>0</td>\n",
       "      <td>0</td>\n",
       "      <td>0</td>\n",
       "      <td>1</td>\n",
       "      <td>0</td>\n",
       "      <td>0</td>\n",
       "    </tr>\n",
       "    <tr>\n",
       "      <th>8380</th>\n",
       "      <td>3080</td>\n",
       "      <td>CLocationTab.java</td>\n",
       "      <td>// cannot work with multi cfg</td>\n",
       "      <td>1</td>\n",
       "      <td>// cannot work with multi cfg | CLocationTab.java</td>\n",
       "      <td>[0, 0, 0, 0, 0, 0, 1]</td>\n",
       "      <td>0</td>\n",
       "      <td>0</td>\n",
       "      <td>0</td>\n",
       "      <td>0</td>\n",
       "      <td>0</td>\n",
       "      <td>0</td>\n",
       "      <td>1</td>\n",
       "    </tr>\n",
       "    <tr>\n",
       "      <th>3386</th>\n",
       "      <td>6236</td>\n",
       "      <td>PreemptionMessage.java</td>\n",
       "      <td>@return Specific resources that may be killed ...</td>\n",
       "      <td>0</td>\n",
       "      <td>@return Specific resources that may be killed ...</td>\n",
       "      <td>[0, 0, 0, 1, 0, 0, 0]</td>\n",
       "      <td>0</td>\n",
       "      <td>0</td>\n",
       "      <td>0</td>\n",
       "      <td>1</td>\n",
       "      <td>0</td>\n",
       "      <td>0</td>\n",
       "      <td>0</td>\n",
       "    </tr>\n",
       "  </tbody>\n",
       "</table>\n",
       "</div>"
      ],
      "text/plain": [
       "      index                     class  \\\n",
       "73      136  DiskBalancerCluster.java   \n",
       "6415   9421         OutputReader.java   \n",
       "8888   3654                BiMap.java   \n",
       "8380   3080         CLocationTab.java   \n",
       "3386   6236    PreemptionMessage.java   \n",
       "\n",
       "                                       comment_sentence  partition  \\\n",
       "73                   not in exclusionlist is processed.          0   \n",
       "6415     * Read the next key/value pair outputted by...          0   \n",
       "8888                         @link java.util.Collection          1   \n",
       "8380                      // cannot work with multi cfg          1   \n",
       "3386  @return Specific resources that may be killed ...          0   \n",
       "\n",
       "                                                  combo  \\\n",
       "73    not in exclusionlist is processed. | DiskBalan...   \n",
       "6415     * Read the next key/value pair outputted by...   \n",
       "8888            @link java.util.Collection | BiMap.java   \n",
       "8380  // cannot work with multi cfg | CLocationTab.java   \n",
       "3386  @return Specific resources that may be killed ...   \n",
       "\n",
       "                     labels  summary  Ownership  Expand  usage  Pointer  \\\n",
       "73    [0, 0, 1, 0, 0, 0, 0]        0          0       1      0        0   \n",
       "6415  [1, 0, 0, 0, 0, 0, 0]        1          0       0      0        0   \n",
       "8888  [0, 0, 0, 0, 1, 0, 0]        0          0       0      0        1   \n",
       "8380  [0, 0, 0, 0, 0, 0, 1]        0          0       0      0        0   \n",
       "3386  [0, 0, 0, 1, 0, 0, 0]        0          0       0      1        0   \n",
       "\n",
       "      deprecation  rational  \n",
       "73              0         0  \n",
       "6415            0         0  \n",
       "8888            0         0  \n",
       "8380            0         1  \n",
       "3386            0         0  "
      ]
     },
     "execution_count": 8,
     "metadata": {},
     "output_type": "execute_result"
    }
   ],
   "source": [
    "java_df.sample(5)"
   ]
  },
  {
   "cell_type": "code",
   "execution_count": 9,
   "metadata": {},
   "outputs": [
    {
     "data": {
      "text/html": [
       "<div>\n",
       "<style scoped>\n",
       "    .dataframe tbody tr th:only-of-type {\n",
       "        vertical-align: middle;\n",
       "    }\n",
       "\n",
       "    .dataframe tbody tr th {\n",
       "        vertical-align: top;\n",
       "    }\n",
       "\n",
       "    .dataframe thead th {\n",
       "        text-align: right;\n",
       "    }\n",
       "</style>\n",
       "<table border=\"1\" class=\"dataframe\">\n",
       "  <thead>\n",
       "    <tr style=\"text-align: right;\">\n",
       "      <th></th>\n",
       "      <th>index</th>\n",
       "      <th>class</th>\n",
       "      <th>comment_sentence</th>\n",
       "      <th>partition</th>\n",
       "      <th>combo</th>\n",
       "      <th>labels</th>\n",
       "      <th>Usage</th>\n",
       "      <th>Parameters</th>\n",
       "      <th>DevelopmentNotes</th>\n",
       "      <th>Expand</th>\n",
       "      <th>Summary</th>\n",
       "    </tr>\n",
       "  </thead>\n",
       "  <tbody>\n",
       "    <tr>\n",
       "      <th>1983</th>\n",
       "      <td>582</td>\n",
       "      <td>ConfigDict</td>\n",
       "      <td>configuration data can be nested by including ...</td>\n",
       "      <td>1</td>\n",
       "      <td>configuration data can be nested by including ...</td>\n",
       "      <td>[0, 0, 0, 1, 0]</td>\n",
       "      <td>0</td>\n",
       "      <td>0</td>\n",
       "      <td>0</td>\n",
       "      <td>1</td>\n",
       "      <td>0</td>\n",
       "    </tr>\n",
       "    <tr>\n",
       "      <th>443</th>\n",
       "      <td>588</td>\n",
       "      <td>ConfigDict</td>\n",
       "      <td>, int , 0 ,</td>\n",
       "      <td>0</td>\n",
       "      <td>, int , 0 , | ConfigDict</td>\n",
       "      <td>[1, 0, 0, 0, 0]</td>\n",
       "      <td>1</td>\n",
       "      <td>0</td>\n",
       "      <td>0</td>\n",
       "      <td>0</td>\n",
       "      <td>0</td>\n",
       "    </tr>\n",
       "    <tr>\n",
       "      <th>1551</th>\n",
       "      <td>2184</td>\n",
       "      <td>Conv3d</td>\n",
       "      <td>m nn^conv3d 16, 33, 3, 5, 2 , stride 2, 1, 1 ,...</td>\n",
       "      <td>0</td>\n",
       "      <td>m nn^conv3d 16, 33, 3, 5, 2 , stride 2, 1, 1 ,...</td>\n",
       "      <td>[1, 0, 0, 0, 0]</td>\n",
       "      <td>1</td>\n",
       "      <td>0</td>\n",
       "      <td>0</td>\n",
       "      <td>0</td>\n",
       "      <td>0</td>\n",
       "    </tr>\n",
       "    <tr>\n",
       "      <th>2120</th>\n",
       "      <td>1430</td>\n",
       "      <td>MemcachedBytecodeCache</td>\n",
       "      <td>item should exist.</td>\n",
       "      <td>1</td>\n",
       "      <td>item should exist. | MemcachedBytecodeCache</td>\n",
       "      <td>[1, 0, 0, 0, 0]</td>\n",
       "      <td>1</td>\n",
       "      <td>0</td>\n",
       "      <td>0</td>\n",
       "      <td>0</td>\n",
       "      <td>0</td>\n",
       "    </tr>\n",
       "    <tr>\n",
       "      <th>437</th>\n",
       "      <td>578</td>\n",
       "      <td>ConfigDict</td>\n",
       "      <td>if the sanity check is itself a dictionary of ...</td>\n",
       "      <td>0</td>\n",
       "      <td>if the sanity check is itself a dictionary of ...</td>\n",
       "      <td>[0, 0, 0, 1, 0]</td>\n",
       "      <td>0</td>\n",
       "      <td>0</td>\n",
       "      <td>0</td>\n",
       "      <td>1</td>\n",
       "      <td>0</td>\n",
       "    </tr>\n",
       "  </tbody>\n",
       "</table>\n",
       "</div>"
      ],
      "text/plain": [
       "      index                   class  \\\n",
       "1983    582              ConfigDict   \n",
       "443     588              ConfigDict   \n",
       "1551   2184                  Conv3d   \n",
       "2120   1430  MemcachedBytecodeCache   \n",
       "437     578              ConfigDict   \n",
       "\n",
       "                                       comment_sentence  partition  \\\n",
       "1983  configuration data can be nested by including ...          1   \n",
       "443                                         , int , 0 ,          0   \n",
       "1551  m nn^conv3d 16, 33, 3, 5, 2 , stride 2, 1, 1 ,...          0   \n",
       "2120                                 item should exist.          1   \n",
       "437   if the sanity check is itself a dictionary of ...          0   \n",
       "\n",
       "                                                  combo           labels  \\\n",
       "1983  configuration data can be nested by including ...  [0, 0, 0, 1, 0]   \n",
       "443                            , int , 0 , | ConfigDict  [1, 0, 0, 0, 0]   \n",
       "1551  m nn^conv3d 16, 33, 3, 5, 2 , stride 2, 1, 1 ,...  [1, 0, 0, 0, 0]   \n",
       "2120        item should exist. | MemcachedBytecodeCache  [1, 0, 0, 0, 0]   \n",
       "437   if the sanity check is itself a dictionary of ...  [0, 0, 0, 1, 0]   \n",
       "\n",
       "      Usage  Parameters  DevelopmentNotes  Expand  Summary  \n",
       "1983      0           0                 0       1        0  \n",
       "443       1           0                 0       0        0  \n",
       "1551      1           0                 0       0        0  \n",
       "2120      1           0                 0       0        0  \n",
       "437       0           0                 0       1        0  "
      ]
     },
     "execution_count": 9,
     "metadata": {},
     "output_type": "execute_result"
    }
   ],
   "source": [
    "python_df.sample(5)"
   ]
  },
  {
   "cell_type": "code",
   "execution_count": 10,
   "metadata": {},
   "outputs": [
    {
     "data": {
      "text/html": [
       "<div>\n",
       "<style scoped>\n",
       "    .dataframe tbody tr th:only-of-type {\n",
       "        vertical-align: middle;\n",
       "    }\n",
       "\n",
       "    .dataframe tbody tr th {\n",
       "        vertical-align: top;\n",
       "    }\n",
       "\n",
       "    .dataframe thead th {\n",
       "        text-align: right;\n",
       "    }\n",
       "</style>\n",
       "<table border=\"1\" class=\"dataframe\">\n",
       "  <thead>\n",
       "    <tr style=\"text-align: right;\">\n",
       "      <th></th>\n",
       "      <th>index</th>\n",
       "      <th>class</th>\n",
       "      <th>comment_sentence</th>\n",
       "      <th>partition</th>\n",
       "      <th>combo</th>\n",
       "      <th>labels</th>\n",
       "      <th>Keyimplementationpoints</th>\n",
       "      <th>Example</th>\n",
       "      <th>Responsibilities</th>\n",
       "      <th>Classreferences</th>\n",
       "      <th>Intent</th>\n",
       "      <th>Keymessages</th>\n",
       "      <th>Collaborators</th>\n",
       "    </tr>\n",
       "  </thead>\n",
       "  <tbody>\n",
       "    <tr>\n",
       "      <th>1355</th>\n",
       "      <td>266</td>\n",
       "      <td>BlRectangleShapeWithArrowExplanation</td>\n",
       "      <td>example blrectangleshapewitharrowexplanation #...</td>\n",
       "      <td>1</td>\n",
       "      <td>example blrectangleshapewitharrowexplanation #...</td>\n",
       "      <td>[0, 1, 0, 0, 0, 0, 0]</td>\n",
       "      <td>0</td>\n",
       "      <td>1</td>\n",
       "      <td>0</td>\n",
       "      <td>0</td>\n",
       "      <td>0</td>\n",
       "      <td>0</td>\n",
       "      <td>0</td>\n",
       "    </tr>\n",
       "    <tr>\n",
       "      <th>984</th>\n",
       "      <td>1395</td>\n",
       "      <td>RTHighlightableWithCursor</td>\n",
       "      <td>b boxshape bordercolor color black.</td>\n",
       "      <td>0</td>\n",
       "      <td>b boxshape bordercolor color black. | RTHighli...</td>\n",
       "      <td>[0, 1, 0, 0, 0, 0, 0]</td>\n",
       "      <td>0</td>\n",
       "      <td>1</td>\n",
       "      <td>0</td>\n",
       "      <td>0</td>\n",
       "      <td>0</td>\n",
       "      <td>0</td>\n",
       "      <td>0</td>\n",
       "    </tr>\n",
       "    <tr>\n",
       "      <th>1373</th>\n",
       "      <td>433</td>\n",
       "      <td>GtDiagrammerPicker</td>\n",
       "      <td>look brmaterialtogglelabelledlook</td>\n",
       "      <td>1</td>\n",
       "      <td>look brmaterialtogglelabelledlook | GtDiagramm...</td>\n",
       "      <td>[0, 1, 0, 0, 0, 0, 0]</td>\n",
       "      <td>0</td>\n",
       "      <td>1</td>\n",
       "      <td>0</td>\n",
       "      <td>0</td>\n",
       "      <td>0</td>\n",
       "      <td>0</td>\n",
       "      <td>0</td>\n",
       "    </tr>\n",
       "    <tr>\n",
       "      <th>1149</th>\n",
       "      <td>1637</td>\n",
       "      <td>WAComboResponse</td>\n",
       "      <td>for example, a search results page might use s...</td>\n",
       "      <td>0</td>\n",
       "      <td>for example, a search results page might use s...</td>\n",
       "      <td>[0, 1, 0, 0, 0, 0, 0]</td>\n",
       "      <td>0</td>\n",
       "      <td>1</td>\n",
       "      <td>0</td>\n",
       "      <td>0</td>\n",
       "      <td>0</td>\n",
       "      <td>0</td>\n",
       "      <td>0</td>\n",
       "    </tr>\n",
       "    <tr>\n",
       "      <th>1267</th>\n",
       "      <td>1808</td>\n",
       "      <td>WAPharoUrlEncoder</td>\n",
       "      <td>i am a pharo specific url encoder.</td>\n",
       "      <td>0</td>\n",
       "      <td>i am a pharo specific url encoder. | WAPharoUr...</td>\n",
       "      <td>[0, 0, 0, 0, 1, 0, 0]</td>\n",
       "      <td>0</td>\n",
       "      <td>0</td>\n",
       "      <td>0</td>\n",
       "      <td>0</td>\n",
       "      <td>1</td>\n",
       "      <td>0</td>\n",
       "      <td>0</td>\n",
       "    </tr>\n",
       "  </tbody>\n",
       "</table>\n",
       "</div>"
      ],
      "text/plain": [
       "      index                                 class  \\\n",
       "1355    266  BlRectangleShapeWithArrowExplanation   \n",
       "984    1395             RTHighlightableWithCursor   \n",
       "1373    433                    GtDiagrammerPicker   \n",
       "1149   1637                       WAComboResponse   \n",
       "1267   1808                     WAPharoUrlEncoder   \n",
       "\n",
       "                                       comment_sentence  partition  \\\n",
       "1355  example blrectangleshapewitharrowexplanation #...          1   \n",
       "984                 b boxshape bordercolor color black.          0   \n",
       "1373                  look brmaterialtogglelabelledlook          1   \n",
       "1149  for example, a search results page might use s...          0   \n",
       "1267                 i am a pharo specific url encoder.          0   \n",
       "\n",
       "                                                  combo  \\\n",
       "1355  example blrectangleshapewitharrowexplanation #...   \n",
       "984   b boxshape bordercolor color black. | RTHighli...   \n",
       "1373  look brmaterialtogglelabelledlook | GtDiagramm...   \n",
       "1149  for example, a search results page might use s...   \n",
       "1267  i am a pharo specific url encoder. | WAPharoUr...   \n",
       "\n",
       "                     labels  Keyimplementationpoints  Example  \\\n",
       "1355  [0, 1, 0, 0, 0, 0, 0]                        0        1   \n",
       "984   [0, 1, 0, 0, 0, 0, 0]                        0        1   \n",
       "1373  [0, 1, 0, 0, 0, 0, 0]                        0        1   \n",
       "1149  [0, 1, 0, 0, 0, 0, 0]                        0        1   \n",
       "1267  [0, 0, 0, 0, 1, 0, 0]                        0        0   \n",
       "\n",
       "      Responsibilities  Classreferences  Intent  Keymessages  Collaborators  \n",
       "1355                 0                0       0            0              0  \n",
       "984                  0                0       0            0              0  \n",
       "1373                 0                0       0            0              0  \n",
       "1149                 0                0       0            0              0  \n",
       "1267                 0                0       1            0              0  "
      ]
     },
     "execution_count": 10,
     "metadata": {},
     "output_type": "execute_result"
    }
   ],
   "source": [
    "pharo_df.sample(5)"
   ]
  },
  {
   "cell_type": "code",
   "execution_count": 11,
   "metadata": {},
   "outputs": [
    {
     "data": {
      "text/plain": [
       "partition\n",
       "0    7614\n",
       "1    1725\n",
       "Name: count, dtype: int64"
      ]
     },
     "execution_count": 11,
     "metadata": {},
     "output_type": "execute_result"
    }
   ],
   "source": [
    "java_df[\"partition\"].value_counts(dropna=False)"
   ]
  },
  {
   "cell_type": "code",
   "execution_count": 12,
   "metadata": {},
   "outputs": [
    {
     "data": {
      "text/plain": [
       "partition\n",
       "0    1884\n",
       "1     406\n",
       "Name: count, dtype: int64"
      ]
     },
     "execution_count": 12,
     "metadata": {},
     "output_type": "execute_result"
    }
   ],
   "source": [
    "python_df[\"partition\"].value_counts(dropna=False)"
   ]
  },
  {
   "cell_type": "code",
   "execution_count": 13,
   "metadata": {},
   "outputs": [
    {
     "data": {
      "text/plain": [
       "partition\n",
       "0    1298\n",
       "1     289\n",
       "Name: count, dtype: int64"
      ]
     },
     "execution_count": 13,
     "metadata": {},
     "output_type": "execute_result"
    }
   ],
   "source": [
    "pharo_df[\"partition\"].value_counts(dropna=False)"
   ]
  },
  {
   "cell_type": "markdown",
   "metadata": {},
   "source": [
    "### Explore sentences length:"
   ]
  },
  {
   "cell_type": "code",
   "execution_count": 14,
   "metadata": {},
   "outputs": [
    {
     "name": "stderr",
     "output_type": "stream",
     "text": [
      "Token indices sequence length is longer than the specified maximum sequence length for this model (140 > 128). Running this sequence through the model will result in indexing errors\n"
     ]
    }
   ],
   "source": [
    "java_df[\"num_tokens\"] = pd.Series(model.model_body.tokenizer(\n",
    "    java_df[\"comment_sentence\"].tolist(),\n",
    "    add_special_tokens=False,\n",
    "    return_length=True\n",
    ")[\"length\"])\n",
    "\n",
    "python_df[\"num_tokens\"] = pd.Series(model.model_body.tokenizer(\n",
    "    python_df[\"comment_sentence\"].tolist(),\n",
    "    add_special_tokens=False,\n",
    "    return_length=True\n",
    ")[\"length\"])\n",
    "\n",
    "pharo_df[\"num_tokens\"] = pd.Series(model.model_body.tokenizer(\n",
    "    pharo_df[\"comment_sentence\"].tolist(),\n",
    "    add_special_tokens=False,\n",
    "    return_length=True\n",
    ")[\"length\"])"
   ]
  },
  {
   "cell_type": "code",
   "execution_count": 19,
   "metadata": {},
   "outputs": [
    {
     "data": {
      "image/png": "[encoded data removed]",
      "text/plain": [
       "<Figure size 1500x1500 with 3 Axes>"
      ]
     },
     "metadata": {},
     "output_type": "display_data"
    }
   ],
   "source": [
    "fig, axes = plt.subplots(3, 1, figsize=(15, 15))\n",
    "\n",
    "sns.kdeplot(java_df.loc[java_df[\"partition\"] == 0, \"num_tokens\"], bw_adjust=.2, ax=axes[0])\n",
    "sns.kdeplot(java_df.loc[java_df[\"partition\"] == 1, \"num_tokens\"], bw_adjust=.2, ax=axes[0])\n",
    "axes[0].set_xlim([0, java_df[\"num_tokens\"].quantile(.99)])\n",
    "axes[0].legend([\"Train\", \"Test\"], title=\"Java\")\n",
    "\n",
    "sns.kdeplot(python_df.loc[python_df[\"partition\"] == 0, \"num_tokens\"], bw_adjust=.2, ax=axes[1])\n",
    "sns.kdeplot(python_df.loc[python_df[\"partition\"] == 1, \"num_tokens\"], bw_adjust=.2, ax=axes[1])\n",
    "axes[1].set_xlim([0, python_df[\"num_tokens\"].quantile(.99)])\n",
    "axes[1].legend([\"Train\", \"Test\"], title=\"Python\")\n",
    "\n",
    "sns.kdeplot(pharo_df.loc[pharo_df[\"partition\"] == 0, \"num_tokens\"], bw_adjust=.2, ax=axes[2])\n",
    "sns.kdeplot(pharo_df.loc[pharo_df[\"partition\"] == 1, \"num_tokens\"], bw_adjust=.2, ax=axes[2])\n",
    "axes[2].set_xlim([0, pharo_df[\"num_tokens\"].quantile(.99)])\n",
    "axes[2].legend([\"Train\", \"Test\"], title=\"Pharo\")\n",
    "\n",
    "axes[0].set_title(\"Sentence length (number of tokens) distribution, p=99%\")\n",
    "plt.show()"
   ]
  },
  {
   "cell_type": "code",
   "execution_count": 21,
   "metadata": {},
   "outputs": [
    {
     "data": {
      "text/plain": [
       "count    9339.000000\n",
       "mean       17.732627\n",
       "std        24.065105\n",
       "min         1.000000\n",
       "10%         5.000000\n",
       "25%         8.000000\n",
       "50%        12.000000\n",
       "75%        19.000000\n",
       "95%        50.000000\n",
       "99%       103.620000\n",
       "max       792.000000\n",
       "Name: num_tokens, dtype: float64"
      ]
     },
     "execution_count": 21,
     "metadata": {},
     "output_type": "execute_result"
    }
   ],
   "source": [
    "java_df[\"num_tokens\"].describe(percentiles=[.1, .25, .5, .75, .95, .99])"
   ]
  },
  {
   "cell_type": "code",
   "execution_count": 22,
   "metadata": {},
   "outputs": [
    {
     "data": {
      "text/plain": [
       "count    2290.000000\n",
       "mean        9.414410\n",
       "std         5.083476\n",
       "min         1.000000\n",
       "10%         3.000000\n",
       "25%         5.000000\n",
       "50%         9.000000\n",
       "75%        13.000000\n",
       "95%        18.000000\n",
       "99%        23.000000\n",
       "max        34.000000\n",
       "Name: num_tokens, dtype: float64"
      ]
     },
     "execution_count": 22,
     "metadata": {},
     "output_type": "execute_result"
    }
   ],
   "source": [
    "python_df[\"num_tokens\"].describe(percentiles=[.1, .25, .5, .75, .95, .99])"
   ]
  },
  {
   "cell_type": "code",
   "execution_count": 23,
   "metadata": {},
   "outputs": [
    {
     "data": {
      "text/plain": [
       "count    1587.000000\n",
       "mean       13.001260\n",
       "std         9.946895\n",
       "min         1.000000\n",
       "10%         2.000000\n",
       "25%         6.000000\n",
       "50%        11.000000\n",
       "75%        18.000000\n",
       "95%        31.000000\n",
       "99%        42.420000\n",
       "max       100.000000\n",
       "Name: num_tokens, dtype: float64"
      ]
     },
     "execution_count": 23,
     "metadata": {},
     "output_type": "execute_result"
    }
   ],
   "source": [
    "pharo_df[\"num_tokens\"].describe(percentiles=[.1, .25, .5, .75, .95, .99])"
   ]
  },
  {
   "cell_type": "markdown",
   "metadata": {},
   "source": [
    "**Insight:** Some comment sentences from the three languages are extremely short in terms of their number of characters. These sentences may potentially contribute nothing to the learning process."
   ]
  },
  {
   "cell_type": "code",
   "execution_count": 24,
   "metadata": {},
   "outputs": [
    {
     "name": "stdout",
     "output_type": "stream",
     "text": [
      "- - -\n",
      "@link OutputStream\n",
      "- - -\n",
      "@link PortletListenerNotifier}\n",
      "- - -\n",
      "   * @param request ApplicationMaster allocate request\n",
      "- - -\n",
      "     * Delete all discovered symbols for the resource\n",
      "- - -\n",
      "\tprivate static final long serialVersionUID = 3976741380246681395L;\n",
      "- - -\n",
      "     * @return A download stream which produces the resource content\n",
      "- - -\n",
      "it is in charge to publish the state of the @link plan s to the underlying\n",
      "- - -\n",
      "these dummy targets are added to the makefile\n",
      "- - -\n",
      "   * @param start starting offset\n",
      "- - -\n",
      "\t * @since 5.5\n"
     ]
    }
   ],
   "source": [
    "for idx, t in java_df.sample(10).iterrows():\n",
    "    print(\"- - -\")\n",
    "    print(t[\"comment_sentence\"])"
   ]
  },
  {
   "cell_type": "code",
   "execution_count": 25,
   "metadata": {},
   "outputs": [
    {
     "name": "stdout",
     "output_type": "stream",
     "text": [
      "- - -\n",
      "it observes the input tensor, after convert , quantstub\n",
      "- - -\n",
      "replaces a list of migration names\n",
      "- - -\n",
      "scale.\n",
      "- - -\n",
      "evil , good\n",
      "- - -\n",
      "rate between two boundaries with a constant frequency, as detailed in\n",
      "- - -\n",
      "globl ops^const 0\n",
      "- - -\n",
      "3\n",
      "- - -\n",
      "store any unstored\n",
      "- - -\n",
      "everything you wanted to test about sorting\n",
      "- - -\n",
      "class minimalclientinterface\n"
     ]
    }
   ],
   "source": [
    "for idx, t in python_df.sample(10).iterrows():\n",
    "    print(\"- - -\")\n",
    "    print(t[\"comment_sentence\"])"
   ]
  },
  {
   "cell_type": "code",
   "execution_count": 26,
   "metadata": {},
   "outputs": [
    {
     "name": "stdout",
     "output_type": "stream",
     "text": [
      "- - -\n",
      "this is disabled by default.\n",
      "- - -\n",
      "therefore, we decide that we have reached an optimum for the left half in step two, and start processing the right half.\n",
      "- - -\n",
      "i am a pharo specific xml encoder.\n",
      "- - -\n",
      "parametertype represents the symbolic type used in parameterizable classes.\n",
      "- - -\n",
      "v rtview new.\n",
      "- - -\n",
      "self inform result printstring\n",
      "- - -\n",
      "fill previously created path fith linear gradient\n",
      "- - -\n",
      "for example, a search results page might use something like\n",
      "- - -\n",
      "position object\n",
      "- - -\n",
      "b monthshape shape b monthshapepath 150 .\n"
     ]
    }
   ],
   "source": [
    "for idx, t in pharo_df.sample(10).iterrows():\n",
    "    print(\"- - -\")\n",
    "    print(t[\"comment_sentence\"])"
   ]
  },
  {
   "cell_type": "markdown",
   "metadata": {},
   "source": [
    "**Insight:** Java sentences contain character sequences such as `//`, `/**`, `*/`, and `*`, corresponding to the Java comment styling but not contributing to the intention of the sentence. URLs are also evidenced."
   ]
  },
  {
   "cell_type": "markdown",
   "metadata": {},
   "source": [
    "### Explore the class (source of the comment sentence):"
   ]
  },
  {
   "cell_type": "code",
   "execution_count": 27,
   "metadata": {},
   "outputs": [
    {
     "name": "stdout",
     "output_type": "stream",
     "text": [
      "Number of source classes only in the Java train dataset: 867\n",
      "Number of source classes only in the Java test dataset: 238\n",
      "Number of source classes in both datasets: 112\n"
     ]
    }
   ],
   "source": [
    "java_classes_train = java_df.loc[java_df[\"partition\"] == 0, \"class\"].unique().tolist()\n",
    "java_classes_test = java_df.loc[java_df[\"partition\"] == 1, \"class\"].unique().tolist()\n",
    "\n",
    "print(\"Number of source classes only in the Java train dataset:\", len(java_classes_train))\n",
    "print(\"Number of source classes only in the Java test dataset:\", len(java_classes_test))\n",
    "print(\"Number of source classes in both datasets:\", len(set(java_classes_train) & set(java_classes_test)))"
   ]
  },
  {
   "cell_type": "code",
   "execution_count": 28,
   "metadata": {},
   "outputs": [
    {
     "name": "stdout",
     "output_type": "stream",
     "text": [
      "Number of source classes only in the Python train dataset: 288\n",
      "Number of source classes only in the Python test dataset: 123\n",
      "Number of ssource classes in both datasets: 83\n"
     ]
    }
   ],
   "source": [
    "python_classes_train = python_df.loc[python_df[\"partition\"] == 0, \"class\"].unique().tolist()\n",
    "python_classes_test = python_df.loc[python_df[\"partition\"] == 1, \"class\"].unique().tolist()\n",
    "\n",
    "print(\"Number of source classes only in the Python train dataset:\", len(python_classes_train))\n",
    "print(\"Number of source classes only in the Python test dataset:\", len(python_classes_test))\n",
    "print(\"Number of ssource classes in both datasets:\", len(set(python_classes_train) & set(python_classes_test)))"
   ]
  },
  {
   "cell_type": "code",
   "execution_count": 29,
   "metadata": {},
   "outputs": [
    {
     "name": "stdout",
     "output_type": "stream",
     "text": [
      "Number of source classes only in the Pharo train dataset: 282\n",
      "Number of source classes only in the Pharo test dataset: 101\n",
      "Number of source classes in both datasets: 78\n"
     ]
    }
   ],
   "source": [
    "pharo_classes_train = pharo_df.loc[pharo_df[\"partition\"] == 0, \"class\"].unique().tolist()\n",
    "pharo_classes_test = pharo_df.loc[pharo_df[\"partition\"] == 1, \"class\"].unique().tolist()\n",
    "\n",
    "print(\"Number of source classes only in the Pharo train dataset:\", len(pharo_classes_train))\n",
    "print(\"Number of source classes only in the Pharo test dataset:\", len(pharo_classes_test))\n",
    "print(\"Number of source classes in both datasets:\", len(set(pharo_classes_train) & set(pharo_classes_test)))"
   ]
  },
  {
   "cell_type": "markdown",
   "metadata": {},
   "source": [
    "### Explore labels:"
   ]
  },
  {
   "cell_type": "code",
   "execution_count": 30,
   "metadata": {},
   "outputs": [],
   "source": [
    "java_df[\"num_labels\"] = java_df[\"labels\"].apply(sum)\n",
    "python_df[\"num_labels\"] = python_df[\"labels\"].apply(sum)\n",
    "pharo_df[\"num_labels\"] = pharo_df[\"labels\"].apply(sum)"
   ]
  },
  {
   "cell_type": "code",
   "execution_count": 31,
   "metadata": {},
   "outputs": [
    {
     "data": {
      "text/html": [
       "<div>\n",
       "<style scoped>\n",
       "    .dataframe tbody tr th:only-of-type {\n",
       "        vertical-align: middle;\n",
       "    }\n",
       "\n",
       "    .dataframe tbody tr th {\n",
       "        vertical-align: top;\n",
       "    }\n",
       "\n",
       "    .dataframe thead th {\n",
       "        text-align: right;\n",
       "    }\n",
       "</style>\n",
       "<table border=\"1\" class=\"dataframe\">\n",
       "  <thead>\n",
       "    <tr style=\"text-align: right;\">\n",
       "      <th></th>\n",
       "      <th>proportion</th>\n",
       "    </tr>\n",
       "    <tr>\n",
       "      <th>num_labels</th>\n",
       "      <th></th>\n",
       "    </tr>\n",
       "  </thead>\n",
       "  <tbody>\n",
       "    <tr>\n",
       "      <th>1</th>\n",
       "      <td>0.979227</td>\n",
       "    </tr>\n",
       "    <tr>\n",
       "      <th>2</th>\n",
       "      <td>0.019167</td>\n",
       "    </tr>\n",
       "    <tr>\n",
       "      <th>3</th>\n",
       "      <td>0.001606</td>\n",
       "    </tr>\n",
       "  </tbody>\n",
       "</table>\n",
       "</div>"
      ],
      "text/plain": [
       "            proportion\n",
       "num_labels            \n",
       "1             0.979227\n",
       "2             0.019167\n",
       "3             0.001606"
      ]
     },
     "execution_count": 31,
     "metadata": {},
     "output_type": "execute_result"
    }
   ],
   "source": [
    "java_df[\"num_labels\"].value_counts(dropna=False, normalize=True).to_frame()"
   ]
  },
  {
   "cell_type": "code",
   "execution_count": 32,
   "metadata": {},
   "outputs": [
    {
     "data": {
      "text/html": [
       "<div>\n",
       "<style scoped>\n",
       "    .dataframe tbody tr th:only-of-type {\n",
       "        vertical-align: middle;\n",
       "    }\n",
       "\n",
       "    .dataframe tbody tr th {\n",
       "        vertical-align: top;\n",
       "    }\n",
       "\n",
       "    .dataframe thead th {\n",
       "        text-align: right;\n",
       "    }\n",
       "</style>\n",
       "<table border=\"1\" class=\"dataframe\">\n",
       "  <thead>\n",
       "    <tr style=\"text-align: right;\">\n",
       "      <th></th>\n",
       "      <th></th>\n",
       "      <th>proportion</th>\n",
       "    </tr>\n",
       "    <tr>\n",
       "      <th>partition</th>\n",
       "      <th>num_labels</th>\n",
       "      <th></th>\n",
       "    </tr>\n",
       "  </thead>\n",
       "  <tbody>\n",
       "    <tr>\n",
       "      <th rowspan=\"3\" valign=\"top\">0</th>\n",
       "      <th>1</th>\n",
       "      <td>0.976097</td>\n",
       "    </tr>\n",
       "    <tr>\n",
       "      <th>2</th>\n",
       "      <td>0.021933</td>\n",
       "    </tr>\n",
       "    <tr>\n",
       "      <th>3</th>\n",
       "      <td>0.001970</td>\n",
       "    </tr>\n",
       "    <tr>\n",
       "      <th rowspan=\"2\" valign=\"top\">1</th>\n",
       "      <th>1</th>\n",
       "      <td>0.993043</td>\n",
       "    </tr>\n",
       "    <tr>\n",
       "      <th>2</th>\n",
       "      <td>0.006957</td>\n",
       "    </tr>\n",
       "  </tbody>\n",
       "</table>\n",
       "</div>"
      ],
      "text/plain": [
       "                      proportion\n",
       "partition num_labels            \n",
       "0         1             0.976097\n",
       "          2             0.021933\n",
       "          3             0.001970\n",
       "1         1             0.993043\n",
       "          2             0.006957"
      ]
     },
     "execution_count": 32,
     "metadata": {},
     "output_type": "execute_result"
    }
   ],
   "source": [
    "java_df.groupby(\"partition\")[\"num_labels\"].value_counts(dropna=False, normalize=True).to_frame()"
   ]
  },
  {
   "cell_type": "code",
   "execution_count": 33,
   "metadata": {},
   "outputs": [
    {
     "data": {
      "text/html": [
       "<div>\n",
       "<style scoped>\n",
       "    .dataframe tbody tr th:only-of-type {\n",
       "        vertical-align: middle;\n",
       "    }\n",
       "\n",
       "    .dataframe tbody tr th {\n",
       "        vertical-align: top;\n",
       "    }\n",
       "\n",
       "    .dataframe thead th {\n",
       "        text-align: right;\n",
       "    }\n",
       "</style>\n",
       "<table border=\"1\" class=\"dataframe\">\n",
       "  <thead>\n",
       "    <tr style=\"text-align: right;\">\n",
       "      <th></th>\n",
       "      <th>proportion</th>\n",
       "    </tr>\n",
       "    <tr>\n",
       "      <th>num_labels</th>\n",
       "      <th></th>\n",
       "    </tr>\n",
       "  </thead>\n",
       "  <tbody>\n",
       "    <tr>\n",
       "      <th>1</th>\n",
       "      <td>0.919214</td>\n",
       "    </tr>\n",
       "    <tr>\n",
       "      <th>2</th>\n",
       "      <td>0.075983</td>\n",
       "    </tr>\n",
       "    <tr>\n",
       "      <th>3</th>\n",
       "      <td>0.004803</td>\n",
       "    </tr>\n",
       "  </tbody>\n",
       "</table>\n",
       "</div>"
      ],
      "text/plain": [
       "            proportion\n",
       "num_labels            \n",
       "1             0.919214\n",
       "2             0.075983\n",
       "3             0.004803"
      ]
     },
     "execution_count": 33,
     "metadata": {},
     "output_type": "execute_result"
    }
   ],
   "source": [
    "python_df[\"num_labels\"].value_counts(dropna=False, normalize=True).to_frame()"
   ]
  },
  {
   "cell_type": "code",
   "execution_count": 34,
   "metadata": {},
   "outputs": [
    {
     "data": {
      "text/html": [
       "<div>\n",
       "<style scoped>\n",
       "    .dataframe tbody tr th:only-of-type {\n",
       "        vertical-align: middle;\n",
       "    }\n",
       "\n",
       "    .dataframe tbody tr th {\n",
       "        vertical-align: top;\n",
       "    }\n",
       "\n",
       "    .dataframe thead th {\n",
       "        text-align: right;\n",
       "    }\n",
       "</style>\n",
       "<table border=\"1\" class=\"dataframe\">\n",
       "  <thead>\n",
       "    <tr style=\"text-align: right;\">\n",
       "      <th></th>\n",
       "      <th></th>\n",
       "      <th>proportion</th>\n",
       "    </tr>\n",
       "    <tr>\n",
       "      <th>partition</th>\n",
       "      <th>num_labels</th>\n",
       "      <th></th>\n",
       "    </tr>\n",
       "  </thead>\n",
       "  <tbody>\n",
       "    <tr>\n",
       "      <th rowspan=\"3\" valign=\"top\">0</th>\n",
       "      <th>1</th>\n",
       "      <td>0.916667</td>\n",
       "    </tr>\n",
       "    <tr>\n",
       "      <th>2</th>\n",
       "      <td>0.078556</td>\n",
       "    </tr>\n",
       "    <tr>\n",
       "      <th>3</th>\n",
       "      <td>0.004777</td>\n",
       "    </tr>\n",
       "    <tr>\n",
       "      <th rowspan=\"3\" valign=\"top\">1</th>\n",
       "      <th>1</th>\n",
       "      <td>0.931034</td>\n",
       "    </tr>\n",
       "    <tr>\n",
       "      <th>2</th>\n",
       "      <td>0.064039</td>\n",
       "    </tr>\n",
       "    <tr>\n",
       "      <th>3</th>\n",
       "      <td>0.004926</td>\n",
       "    </tr>\n",
       "  </tbody>\n",
       "</table>\n",
       "</div>"
      ],
      "text/plain": [
       "                      proportion\n",
       "partition num_labels            \n",
       "0         1             0.916667\n",
       "          2             0.078556\n",
       "          3             0.004777\n",
       "1         1             0.931034\n",
       "          2             0.064039\n",
       "          3             0.004926"
      ]
     },
     "execution_count": 34,
     "metadata": {},
     "output_type": "execute_result"
    }
   ],
   "source": [
    "python_df.groupby(\"partition\")[\"num_labels\"].value_counts(dropna=False, normalize=True).to_frame()"
   ]
  },
  {
   "cell_type": "code",
   "execution_count": 35,
   "metadata": {},
   "outputs": [
    {
     "data": {
      "text/html": [
       "<div>\n",
       "<style scoped>\n",
       "    .dataframe tbody tr th:only-of-type {\n",
       "        vertical-align: middle;\n",
       "    }\n",
       "\n",
       "    .dataframe tbody tr th {\n",
       "        vertical-align: top;\n",
       "    }\n",
       "\n",
       "    .dataframe thead th {\n",
       "        text-align: right;\n",
       "    }\n",
       "</style>\n",
       "<table border=\"1\" class=\"dataframe\">\n",
       "  <thead>\n",
       "    <tr style=\"text-align: right;\">\n",
       "      <th></th>\n",
       "      <th>proportion</th>\n",
       "    </tr>\n",
       "    <tr>\n",
       "      <th>num_labels</th>\n",
       "      <th></th>\n",
       "    </tr>\n",
       "  </thead>\n",
       "  <tbody>\n",
       "    <tr>\n",
       "      <th>1</th>\n",
       "      <td>0.908633</td>\n",
       "    </tr>\n",
       "    <tr>\n",
       "      <th>2</th>\n",
       "      <td>0.076244</td>\n",
       "    </tr>\n",
       "    <tr>\n",
       "      <th>3</th>\n",
       "      <td>0.013863</td>\n",
       "    </tr>\n",
       "    <tr>\n",
       "      <th>4</th>\n",
       "      <td>0.001260</td>\n",
       "    </tr>\n",
       "  </tbody>\n",
       "</table>\n",
       "</div>"
      ],
      "text/plain": [
       "            proportion\n",
       "num_labels            \n",
       "1             0.908633\n",
       "2             0.076244\n",
       "3             0.013863\n",
       "4             0.001260"
      ]
     },
     "execution_count": 35,
     "metadata": {},
     "output_type": "execute_result"
    }
   ],
   "source": [
    "pharo_df[\"num_labels\"].value_counts(dropna=False, normalize=True).to_frame()"
   ]
  },
  {
   "cell_type": "code",
   "execution_count": 36,
   "metadata": {},
   "outputs": [
    {
     "data": {
      "text/html": [
       "<div>\n",
       "<style scoped>\n",
       "    .dataframe tbody tr th:only-of-type {\n",
       "        vertical-align: middle;\n",
       "    }\n",
       "\n",
       "    .dataframe tbody tr th {\n",
       "        vertical-align: top;\n",
       "    }\n",
       "\n",
       "    .dataframe thead th {\n",
       "        text-align: right;\n",
       "    }\n",
       "</style>\n",
       "<table border=\"1\" class=\"dataframe\">\n",
       "  <thead>\n",
       "    <tr style=\"text-align: right;\">\n",
       "      <th></th>\n",
       "      <th></th>\n",
       "      <th>proportion</th>\n",
       "    </tr>\n",
       "    <tr>\n",
       "      <th>partition</th>\n",
       "      <th>num_labels</th>\n",
       "      <th></th>\n",
       "    </tr>\n",
       "  </thead>\n",
       "  <tbody>\n",
       "    <tr>\n",
       "      <th rowspan=\"4\" valign=\"top\">0</th>\n",
       "      <th>1</th>\n",
       "      <td>0.897535</td>\n",
       "    </tr>\n",
       "    <tr>\n",
       "      <th>2</th>\n",
       "      <td>0.083975</td>\n",
       "    </tr>\n",
       "    <tr>\n",
       "      <th>3</th>\n",
       "      <td>0.016949</td>\n",
       "    </tr>\n",
       "    <tr>\n",
       "      <th>4</th>\n",
       "      <td>0.001541</td>\n",
       "    </tr>\n",
       "    <tr>\n",
       "      <th rowspan=\"2\" valign=\"top\">1</th>\n",
       "      <th>1</th>\n",
       "      <td>0.958478</td>\n",
       "    </tr>\n",
       "    <tr>\n",
       "      <th>2</th>\n",
       "      <td>0.041522</td>\n",
       "    </tr>\n",
       "  </tbody>\n",
       "</table>\n",
       "</div>"
      ],
      "text/plain": [
       "                      proportion\n",
       "partition num_labels            \n",
       "0         1             0.897535\n",
       "          2             0.083975\n",
       "          3             0.016949\n",
       "          4             0.001541\n",
       "1         1             0.958478\n",
       "          2             0.041522"
      ]
     },
     "execution_count": 36,
     "metadata": {},
     "output_type": "execute_result"
    }
   ],
   "source": [
    "pharo_df.groupby(\"partition\")[\"num_labels\"].value_counts(dropna=False, normalize=True).to_frame()"
   ]
  },
  {
   "cell_type": "markdown",
   "metadata": {},
   "source": [
    "**Insight:** Sentences with multiple positive labels are not very common."
   ]
  },
  {
   "cell_type": "code",
   "execution_count": 42,
   "metadata": {},
   "outputs": [
    {
     "data": {
      "text/html": [
       "<div>\n",
       "<style scoped>\n",
       "    .dataframe tbody tr th:only-of-type {\n",
       "        vertical-align: middle;\n",
       "    }\n",
       "\n",
       "    .dataframe tbody tr th {\n",
       "        vertical-align: top;\n",
       "    }\n",
       "\n",
       "    .dataframe thead th {\n",
       "        text-align: right;\n",
       "    }\n",
       "</style>\n",
       "<table border=\"1\" class=\"dataframe\">\n",
       "  <thead>\n",
       "    <tr style=\"text-align: right;\">\n",
       "      <th></th>\n",
       "      <th>summary</th>\n",
       "      <th>Ownership</th>\n",
       "      <th>Expand</th>\n",
       "      <th>usage</th>\n",
       "      <th>Pointer</th>\n",
       "      <th>deprecation</th>\n",
       "      <th>rational</th>\n",
       "    </tr>\n",
       "    <tr>\n",
       "      <th>partition</th>\n",
       "      <th></th>\n",
       "      <th></th>\n",
       "      <th></th>\n",
       "      <th></th>\n",
       "      <th></th>\n",
       "      <th></th>\n",
       "      <th></th>\n",
       "    </tr>\n",
       "  </thead>\n",
       "  <tbody>\n",
       "    <tr>\n",
       "      <th>0</th>\n",
       "      <td>0.474127</td>\n",
       "      <td>0.035067</td>\n",
       "      <td>0.066851</td>\n",
       "      <td>0.274888</td>\n",
       "      <td>0.118729</td>\n",
       "      <td>0.015366</td>\n",
       "      <td>0.040846</td>\n",
       "    </tr>\n",
       "    <tr>\n",
       "      <th>1</th>\n",
       "      <td>0.517101</td>\n",
       "      <td>0.026087</td>\n",
       "      <td>0.059130</td>\n",
       "      <td>0.249855</td>\n",
       "      <td>0.106667</td>\n",
       "      <td>0.008696</td>\n",
       "      <td>0.039420</td>\n",
       "    </tr>\n",
       "  </tbody>\n",
       "</table>\n",
       "</div>"
      ],
      "text/plain": [
       "            summary  Ownership    Expand     usage   Pointer  deprecation  \\\n",
       "partition                                                                   \n",
       "0          0.474127   0.035067  0.066851  0.274888  0.118729     0.015366   \n",
       "1          0.517101   0.026087  0.059130  0.249855  0.106667     0.008696   \n",
       "\n",
       "           rational  \n",
       "partition            \n",
       "0          0.040846  \n",
       "1          0.039420  "
      ]
     },
     "execution_count": 42,
     "metadata": {},
     "output_type": "execute_result"
    }
   ],
   "source": [
    "java_lbl_perc_df = java_df[[\"partition\"] + labels[\"java\"]].groupby(\"partition\").mean()\n",
    "java_lbl_perc_df"
   ]
  },
  {
   "cell_type": "code",
   "execution_count": 43,
   "metadata": {},
   "outputs": [
    {
     "data": {
      "text/html": [
       "<div>\n",
       "<style scoped>\n",
       "    .dataframe tbody tr th:only-of-type {\n",
       "        vertical-align: middle;\n",
       "    }\n",
       "\n",
       "    .dataframe tbody tr th {\n",
       "        vertical-align: top;\n",
       "    }\n",
       "\n",
       "    .dataframe thead th {\n",
       "        text-align: right;\n",
       "    }\n",
       "</style>\n",
       "<table border=\"1\" class=\"dataframe\">\n",
       "  <thead>\n",
       "    <tr style=\"text-align: right;\">\n",
       "      <th></th>\n",
       "      <th>Usage</th>\n",
       "      <th>Parameters</th>\n",
       "      <th>DevelopmentNotes</th>\n",
       "      <th>Expand</th>\n",
       "      <th>Summary</th>\n",
       "    </tr>\n",
       "    <tr>\n",
       "      <th>partition</th>\n",
       "      <th></th>\n",
       "      <th></th>\n",
       "      <th></th>\n",
       "      <th></th>\n",
       "      <th></th>\n",
       "    </tr>\n",
       "  </thead>\n",
       "  <tbody>\n",
       "    <tr>\n",
       "      <th>0</th>\n",
       "      <td>0.306794</td>\n",
       "      <td>0.303609</td>\n",
       "      <td>0.111465</td>\n",
       "      <td>0.182059</td>\n",
       "      <td>0.184183</td>\n",
       "    </tr>\n",
       "    <tr>\n",
       "      <th>1</th>\n",
       "      <td>0.298030</td>\n",
       "      <td>0.315271</td>\n",
       "      <td>0.100985</td>\n",
       "      <td>0.157635</td>\n",
       "      <td>0.201970</td>\n",
       "    </tr>\n",
       "  </tbody>\n",
       "</table>\n",
       "</div>"
      ],
      "text/plain": [
       "              Usage  Parameters  DevelopmentNotes    Expand   Summary\n",
       "partition                                                            \n",
       "0          0.306794    0.303609          0.111465  0.182059  0.184183\n",
       "1          0.298030    0.315271          0.100985  0.157635  0.201970"
      ]
     },
     "execution_count": 43,
     "metadata": {},
     "output_type": "execute_result"
    }
   ],
   "source": [
    "python_lbl_perc_df = python_df[[\"partition\"] + labels[\"python\"]].groupby(\"partition\").mean()\n",
    "python_lbl_perc_df"
   ]
  },
  {
   "cell_type": "code",
   "execution_count": 44,
   "metadata": {},
   "outputs": [
    {
     "data": {
      "text/html": [
       "<div>\n",
       "<style scoped>\n",
       "    .dataframe tbody tr th:only-of-type {\n",
       "        vertical-align: middle;\n",
       "    }\n",
       "\n",
       "    .dataframe tbody tr th {\n",
       "        vertical-align: top;\n",
       "    }\n",
       "\n",
       "    .dataframe thead th {\n",
       "        text-align: right;\n",
       "    }\n",
       "</style>\n",
       "<table border=\"1\" class=\"dataframe\">\n",
       "  <thead>\n",
       "    <tr style=\"text-align: right;\">\n",
       "      <th></th>\n",
       "      <th>Keyimplementationpoints</th>\n",
       "      <th>Example</th>\n",
       "      <th>Responsibilities</th>\n",
       "      <th>Classreferences</th>\n",
       "      <th>Intent</th>\n",
       "      <th>Keymessages</th>\n",
       "      <th>Collaborators</th>\n",
       "    </tr>\n",
       "    <tr>\n",
       "      <th>partition</th>\n",
       "      <th></th>\n",
       "      <th></th>\n",
       "      <th></th>\n",
       "      <th></th>\n",
       "      <th></th>\n",
       "      <th></th>\n",
       "      <th></th>\n",
       "    </tr>\n",
       "  </thead>\n",
       "  <tbody>\n",
       "    <tr>\n",
       "      <th>0</th>\n",
       "      <td>0.137134</td>\n",
       "      <td>0.421418</td>\n",
       "      <td>0.188752</td>\n",
       "      <td>0.035439</td>\n",
       "      <td>0.116333</td>\n",
       "      <td>0.164869</td>\n",
       "      <td>0.058552</td>\n",
       "    </tr>\n",
       "    <tr>\n",
       "      <th>1</th>\n",
       "      <td>0.148789</td>\n",
       "      <td>0.411765</td>\n",
       "      <td>0.179931</td>\n",
       "      <td>0.013841</td>\n",
       "      <td>0.103806</td>\n",
       "      <td>0.148789</td>\n",
       "      <td>0.034602</td>\n",
       "    </tr>\n",
       "  </tbody>\n",
       "</table>\n",
       "</div>"
      ],
      "text/plain": [
       "           Keyimplementationpoints   Example  Responsibilities  \\\n",
       "partition                                                        \n",
       "0                         0.137134  0.421418          0.188752   \n",
       "1                         0.148789  0.411765          0.179931   \n",
       "\n",
       "           Classreferences    Intent  Keymessages  Collaborators  \n",
       "partition                                                         \n",
       "0                 0.035439  0.116333     0.164869       0.058552  \n",
       "1                 0.013841  0.103806     0.148789       0.034602  "
      ]
     },
     "execution_count": 44,
     "metadata": {},
     "output_type": "execute_result"
    }
   ],
   "source": [
    "pharo_lbl_perc_df = pharo_df[[\"partition\"] + labels[\"pharo\"]].groupby(\"partition\").mean()\n",
    "pharo_lbl_perc_df"
   ]
  },
  {
   "cell_type": "code",
   "execution_count": null,
   "metadata": {},
   "outputs": [],
   "source": []
  }
 ],
 "metadata": {
  "kernelspec": {
   "display_name": "nlbse",
   "language": "python",
   "name": "python3"
  },
  "language_info": {
   "codemirror_mode": {
    "name": "ipython",
    "version": 3
   },
   "file_extension": ".py",
   "mimetype": "text/x-python",
   "name": "python",
   "nbconvert_exporter": "python",
   "pygments_lexer": "ipython3",
   "version": "3.12.4"
  }
 },
 "nbformat": 4,
 "nbformat_minor": 2
}
