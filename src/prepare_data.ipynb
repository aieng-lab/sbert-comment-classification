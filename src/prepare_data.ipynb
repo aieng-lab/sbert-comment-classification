{
 "cells": [
  {
   "cell_type": "markdown",
   "metadata": {},
   "source": [
    "**Goal:** Clean the datasets, particularly the Java dataset due to containing comment styling characters and URLs.\n",
    "\n",
    "*Disclaimer: This new version of the dataset is not used during experimentation.*"
   ]
  },
  {
   "cell_type": "code",
   "execution_count": 1,
   "metadata": {},
   "outputs": [],
   "source": [
    "import re\n",
    "\n",
    "from datasets import load_dataset"
   ]
  },
  {
   "cell_type": "markdown",
   "metadata": {},
   "source": [
    "### Load the data:"
   ]
  },
  {
   "cell_type": "code",
   "execution_count": 2,
   "metadata": {},
   "outputs": [],
   "source": [
    "dataset = load_dataset(\"NLBSE/nlbse25-code-comment-classification\")"
   ]
  },
  {
   "cell_type": "code",
   "execution_count": 3,
   "metadata": {},
   "outputs": [
    {
     "data": {
      "text/plain": [
       "DatasetDict({\n",
       "    java_train: Dataset({\n",
       "        features: ['index', 'class', 'comment_sentence', 'partition', 'combo', 'labels'],\n",
       "        num_rows: 7614\n",
       "    })\n",
       "    java_test: Dataset({\n",
       "        features: ['index', 'class', 'comment_sentence', 'partition', 'combo', 'labels'],\n",
       "        num_rows: 1725\n",
       "    })\n",
       "    python_train: Dataset({\n",
       "        features: ['index', 'class', 'comment_sentence', 'partition', 'combo', 'labels'],\n",
       "        num_rows: 1884\n",
       "    })\n",
       "    python_test: Dataset({\n",
       "        features: ['index', 'class', 'comment_sentence', 'partition', 'combo', 'labels'],\n",
       "        num_rows: 406\n",
       "    })\n",
       "    pharo_train: Dataset({\n",
       "        features: ['index', 'class', 'comment_sentence', 'partition', 'combo', 'labels'],\n",
       "        num_rows: 1298\n",
       "    })\n",
       "    pharo_test: Dataset({\n",
       "        features: ['index', 'class', 'comment_sentence', 'partition', 'combo', 'labels'],\n",
       "        num_rows: 289\n",
       "    })\n",
       "})"
      ]
     },
     "execution_count": 3,
     "metadata": {},
     "output_type": "execute_result"
    }
   ],
   "source": [
    "dataset"
   ]
  },
  {
   "cell_type": "code",
   "execution_count": 4,
   "metadata": {},
   "outputs": [],
   "source": [
    "def clean_comment_line(s):\n",
    "    # Remove leading and trailing whitespaces\n",
    "    s = s.strip()\n",
    "    # Remove opening '/*' or '/**'\n",
    "    s = re.sub(r'^/\\*+ *', \"\", s)\n",
    "    # Remove closing '*/'\n",
    "    s = re.sub(r'\\*/$', \"\", s)\n",
    "    # Remove leading '*' characters\n",
    "    s = re.sub(r'^ *\\* ?', \"\", s)\n",
    "    # Remove leading '//' or '// '\n",
    "    s = re.sub(r'^// ?', \"\", s)\n",
    "    # Mask URLs\n",
    "    s = re.sub(r'https?:\\s*//(?:[-\\w.]|(?:%[\\da-fA-F]{2}))+(/[^\\s\"()]*)?', \"[URL]\", s)\n",
    "    return s\n",
    "\n",
    "def clean_comment(s):\n",
    "    # Split the string into lines\n",
    "    lines = s.strip().split(\"\\n\")\n",
    "    cleaned_lines = []\n",
    "    for line in lines:\n",
    "        # Clean each line individually\n",
    "        cleaned_line = clean_comment_line(line)\n",
    "        cleaned_lines.append(cleaned_line)\n",
    "    # Join the cleaned lines back into a single string\n",
    "    return \"\\n\".join(cleaned_lines)\n",
    "\n",
    "def prepare_java_comment(x):\n",
    "    x[\"combo\"] = clean_comment(x[\"comment_sentence\"]) + \" | \" + x[\"class\"]\n",
    "    return x"
   ]
  },
  {
   "cell_type": "code",
   "execution_count": 5,
   "metadata": {},
   "outputs": [
    {
     "data": {
      "application/vnd.jupyter.widget-view+json": {
       "model_id": "b7b7741aed51452caeb4d68c1ae16a8d",
       "version_major": 2,
       "version_minor": 0
      },
      "text/plain": [
       "Map:   0%|          | 0/7614 [00:00<?, ? examples/s]"
      ]
     },
     "metadata": {},
     "output_type": "display_data"
    },
    {
     "data": {
      "application/vnd.jupyter.widget-view+json": {
       "model_id": "ad2204702e314fc39f78ff7b9483b5f6",
       "version_major": 2,
       "version_minor": 0
      },
      "text/plain": [
       "Map:   0%|          | 0/1725 [00:00<?, ? examples/s]"
      ]
     },
     "metadata": {},
     "output_type": "display_data"
    }
   ],
   "source": [
    "ds_java_train = dataset[\"java_train\"].map(prepare_java_comment)\n",
    "ds_java_test = dataset[\"java_test\"].map(prepare_java_comment)"
   ]
  },
  {
   "cell_type": "code",
   "execution_count": 6,
   "metadata": {},
   "outputs": [],
   "source": [
    "def clean_comment(s):\n",
    "    # Remove leading and trailing whitespaces\n",
    "    s = s.strip()\n",
    "    # Remove leading '#' characters\n",
    "    s = re.sub(r'^ *# ?', '', s)\n",
    "    return s\n",
    "\n",
    "def prepare_python_comment(x):\n",
    "    x[\"combo\"] = clean_comment(x[\"comment_sentence\"]) + \" | \" + x[\"class\"]\n",
    "    return x"
   ]
  },
  {
   "cell_type": "code",
   "execution_count": null,
   "metadata": {},
   "outputs": [],
   "source": [
    "ds_python_train = dataset[\"python_train\"].map(prepare_python_comment)\n",
    "ds_python_test = dataset[\"python_test\"].map(prepare_python_comment)"
   ]
  },
  {
   "cell_type": "code",
   "execution_count": 8,
   "metadata": {},
   "outputs": [],
   "source": [
    "dataset[\"java_train\"] = ds_java_train\n",
    "dataset[\"java_test\"] = ds_java_test\n",
    "\n",
    "dataset[\"python_train\"] = ds_python_train\n",
    "dataset[\"python_test\"] = ds_python_test"
   ]
  },
  {
   "cell_type": "code",
   "execution_count": 10,
   "metadata": {},
   "outputs": [
    {
     "data": {
      "application/vnd.jupyter.widget-view+json": {
       "model_id": "8365593b670d4b9db7ae3b8e65173dfe",
       "version_major": 2,
       "version_minor": 0
      },
      "text/plain": [
       "Saving the dataset (0/1 shards):   0%|          | 0/7614 [00:00<?, ? examples/s]"
      ]
     },
     "metadata": {},
     "output_type": "display_data"
    },
    {
     "data": {
      "application/vnd.jupyter.widget-view+json": {
       "model_id": "6587de21b7cd403097bd099533eeaeb1",
       "version_major": 2,
       "version_minor": 0
      },
      "text/plain": [
       "Saving the dataset (0/1 shards):   0%|          | 0/1725 [00:00<?, ? examples/s]"
      ]
     },
     "metadata": {},
     "output_type": "display_data"
    },
    {
     "data": {
      "application/vnd.jupyter.widget-view+json": {
       "model_id": "5862c648ea1748ab8b207fdba3f12d22",
       "version_major": 2,
       "version_minor": 0
      },
      "text/plain": [
       "Saving the dataset (0/1 shards):   0%|          | 0/1884 [00:00<?, ? examples/s]"
      ]
     },
     "metadata": {},
     "output_type": "display_data"
    },
    {
     "data": {
      "application/vnd.jupyter.widget-view+json": {
       "model_id": "bd0a78038eb04ae7927fc40db97ca99e",
       "version_major": 2,
       "version_minor": 0
      },
      "text/plain": [
       "Saving the dataset (0/1 shards):   0%|          | 0/406 [00:00<?, ? examples/s]"
      ]
     },
     "metadata": {},
     "output_type": "display_data"
    },
    {
     "data": {
      "application/vnd.jupyter.widget-view+json": {
       "model_id": "190bf982037246fb8cfd51bb767220d7",
       "version_major": 2,
       "version_minor": 0
      },
      "text/plain": [
       "Saving the dataset (0/1 shards):   0%|          | 0/1298 [00:00<?, ? examples/s]"
      ]
     },
     "metadata": {},
     "output_type": "display_data"
    },
    {
     "data": {
      "application/vnd.jupyter.widget-view+json": {
       "model_id": "57f2421f745e46ebb76c20ea5d820f67",
       "version_major": 2,
       "version_minor": 0
      },
      "text/plain": [
       "Saving the dataset (0/1 shards):   0%|          | 0/289 [00:00<?, ? examples/s]"
      ]
     },
     "metadata": {},
     "output_type": "display_data"
    }
   ],
   "source": [
    "dataset.save_to_disk(\"../data/nlbse25_v2\")"
   ]
  },
  {
   "cell_type": "code",
   "execution_count": null,
   "metadata": {},
   "outputs": [],
   "source": []
  }
 ],
 "metadata": {
  "kernelspec": {
   "display_name": "nlbse",
   "language": "python",
   "name": "python3"
  },
  "language_info": {
   "codemirror_mode": {
    "name": "ipython",
    "version": 3
   },
   "file_extension": ".py",
   "mimetype": "text/x-python",
   "name": "python",
   "nbconvert_exporter": "python",
   "pygments_lexer": "ipython3",
   "version": "3.12.4"
  }
 },
 "nbformat": 4,
 "nbformat_minor": 2
}
